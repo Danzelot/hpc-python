{
 "cells": [
  {
   "cell_type": "code",
   "execution_count": 4,
   "metadata": {},
   "outputs": [],
   "source": [
    "import numpy as np\n",
    "import os"
   ]
  },
  {
   "cell_type": "code",
   "execution_count": 2,
   "metadata": {},
   "outputs": [],
   "source": [
    "def maxmem():\n",
    "    # Check maximum memory from /proc/\n",
    "    # Based on Python Cookbook\n",
    "    # http://code.activestate.com/recipes/286222/\n",
    "    # Works on most Linux systems but not in Mac OSX or Windows\n",
    "\n",
    "    _scale = {'kB': 1024.0, 'mB': 1024.0 * 1024.0,\n",
    "              'KB': 1024.0, 'MB': 1024.0 * 1024.0}\n",
    "\n",
    "    _proc_status = '/proc/{0}/status'.format(os.getpid())\n",
    "    with open(_proc_status) as f:\n",
    "        v = f.read()\n",
    "\n",
    "    # Find VmHWM value\n",
    "    i = v.index('VmHWM:')\n",
    "    v = v[i:].split(None, 3)\n",
    "    return float(v[1]) * _scale[v[2]]"
   ]
  },
  {
   "cell_type": "code",
   "execution_count": 3,
   "metadata": {},
   "outputs": [
    {
     "name": "stdout",
     "output_type": "stream",
     "text": [
      "Size of single array: 160.0 MB\n",
      "Maximum memory: 4.002 arrays\n"
     ]
    }
   ],
   "source": [
    "# Python and Numpy library memory usage\n",
    "overhead = maxmem()\n",
    "\n",
    "a = np.random.random((2048, 1024, 10))\n",
    "b = np.random.random((2048, 1024, 10))\n",
    "#c = a - b\n",
    "#c = 2.0 * a - 4.5 * b\n",
    "#c = 2.0 * a - 4.5 * b + np.sin(a) - np.cos(b)\n",
    "#c = 2.0 * a - 4.5 * b + (np.sin(a) - np.cos(b))\n",
    "#c = (np.sin(a) - np.cos(b)) + 4.0 * a - 4.5 * b\n",
    "\n",
    "c = 2.0 * a\n",
    "c -= 4.5 * b\n",
    "c += np.sin(a)\n",
    "c -= np.cos(b)\n",
    "\n",
    "mem = maxmem() - overhead\n",
    "\n",
    "print(\"Size of single array: {0} MB\".format(a.nbytes / 1024.0**2))\n",
    "print(\"Maximum memory: {0:.3f} arrays\".format(mem / a.nbytes))"
   ]
  }
 ],
 "metadata": {
  "kernelspec": {
   "display_name": "Python 3",
   "language": "python",
   "name": "python3"
  },
  "language_info": {
   "codemirror_mode": {
    "name": "ipython",
    "version": 3
   },
   "file_extension": ".py",
   "mimetype": "text/x-python",
   "name": "python",
   "nbconvert_exporter": "python",
   "pygments_lexer": "ipython3",
   "version": "3.7.3"
  }
 },
 "nbformat": 4,
 "nbformat_minor": 2
}
