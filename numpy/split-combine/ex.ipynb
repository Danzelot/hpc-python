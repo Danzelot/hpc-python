{
 "cells": [
  {
   "cell_type": "code",
   "execution_count": 1,
   "metadata": {},
   "outputs": [],
   "source": [
    "import numpy as np"
   ]
  },
  {
   "cell_type": "code",
   "execution_count": 10,
   "metadata": {},
   "outputs": [
    {
     "data": {
      "text/plain": [
       "array([[ 2.,  8.,  9.,  7.,  3.,  6.,  6.,  9.],\n",
       "       [10.,  8.,  6.,  8.,  4.,  4., 10.,  5.],\n",
       "       [ 5.,  2.,  5.,  6.,  1.,  7.,  6.,  4.],\n",
       "       [10.,  1., 10.,  8.,  7.,  3.,  5.,  9.],\n",
       "       [ 3.,  8.,  3., 10.,  1.,  4.,  7.,  9.],\n",
       "       [ 9.,  5.,  8.,  1.,  7.,  3.,  9.,  9.],\n",
       "       [ 8.,  3.,  5.,  9.,  9.,  9.,  3.,  7.],\n",
       "       [ 2.,  1., 10.,  8.,  3.,  7.,  9.,  5.]])"
      ]
     },
     "execution_count": 10,
     "metadata": {},
     "output_type": "execute_result"
    }
   ],
   "source": [
    "x = np.ceil(np.random.random([8,8])*10)\n",
    "x"
   ]
  },
  {
   "cell_type": "code",
   "execution_count": 14,
   "metadata": {},
   "outputs": [
    {
     "data": {
      "text/plain": [
       "array([[ 2.,  8.,  9.,  7.,  3.,  6.,  6.,  9.],\n",
       "       [10.,  8.,  6.,  8.,  4.,  4., 10.,  5.],\n",
       "       [ 5.,  2.,  5.,  6.,  1.,  7.,  6.,  4.],\n",
       "       [10.,  1., 10.,  8.,  7.,  3.,  5.,  9.],\n",
       "       [ 3.,  8.,  3., 10.,  1.,  4.,  7.,  9.],\n",
       "       [ 9.,  5.,  8.,  1.,  7.,  3.,  9.,  9.],\n",
       "       [ 8.,  3.,  5.,  9.,  9.,  9.,  3.,  7.],\n",
       "       [ 2.,  1., 10.,  8.,  3.,  7.,  9.,  5.]])"
      ]
     },
     "execution_count": 14,
     "metadata": {},
     "output_type": "execute_result"
    }
   ],
   "source": [
    "x1,x2 = np.split(x, 2)\n",
    "np.concatenate([x1,x2])"
   ]
  },
  {
   "cell_type": "code",
   "execution_count": 17,
   "metadata": {},
   "outputs": [
    {
     "data": {
      "text/plain": [
       "array([[ 2.,  8.,  9.,  7.,  3.,  6.,  6.,  9.],\n",
       "       [10.,  8.,  6.,  8.,  4.,  4., 10.,  5.],\n",
       "       [ 5.,  2.,  5.,  6.,  1.,  7.,  6.,  4.],\n",
       "       [10.,  1., 10.,  8.,  7.,  3.,  5.,  9.],\n",
       "       [ 3.,  8.,  3., 10.,  1.,  4.,  7.,  9.],\n",
       "       [ 9.,  5.,  8.,  1.,  7.,  3.,  9.,  9.],\n",
       "       [ 8.,  3.,  5.,  9.,  9.,  9.,  3.,  7.],\n",
       "       [ 2.,  1., 10.,  8.,  3.,  7.,  9.,  5.]])"
      ]
     },
     "execution_count": 17,
     "metadata": {},
     "output_type": "execute_result"
    }
   ],
   "source": [
    "x1,x2 = np.split(x, 2, axis=1)\n",
    "np.concatenate([x1,x2], axis=1)"
   ]
  }
 ],
 "metadata": {
  "kernelspec": {
   "display_name": "Python 3",
   "language": "python",
   "name": "python3"
  },
  "language_info": {
   "codemirror_mode": {
    "name": "ipython",
    "version": 3
   },
   "file_extension": ".py",
   "mimetype": "text/x-python",
   "name": "python",
   "nbconvert_exporter": "python",
   "pygments_lexer": "ipython3",
   "version": "3.7.3"
  }
 },
 "nbformat": 4,
 "nbformat_minor": 2
}
