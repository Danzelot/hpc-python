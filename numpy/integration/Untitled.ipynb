{
 "cells": [
  {
   "cell_type": "code",
   "execution_count": 22,
   "metadata": {},
   "outputs": [],
   "source": [
    "import numpy as np"
   ]
  },
  {
   "cell_type": "code",
   "execution_count": 25,
   "metadata": {},
   "outputs": [],
   "source": [
    "dxs = [10.**(-x) for x in np.arange(0,8)]"
   ]
  },
  {
   "cell_type": "code",
   "execution_count": 33,
   "metadata": {},
   "outputs": [],
   "source": [
    "def riemann_sum(dx):\n",
    "    fun = np.sin\n",
    "    x = np.arange(0,np.pi/2,dx)\n",
    "    x_m = (x[:-1]+x[1:])/2\n",
    "    return sum(fun(x_m))*dx"
   ]
  },
  {
   "cell_type": "code",
   "execution_count": 35,
   "metadata": {},
   "outputs": [
    {
     "name": "stdout",
     "output_type": "stream",
     "text": [
      "282 µs ± 8.83 µs per loop (mean ± std. dev. of 7 runs, 1000 loops each)\n"
     ]
    }
   ],
   "source": [
    "%%timeit\n",
    "riemann_sum(0.001)"
   ]
  },
  {
   "cell_type": "code",
   "execution_count": 27,
   "metadata": {},
   "outputs": [
    {
     "name": "stdout",
     "output_type": "stream",
     "text": [
      "1.0 0.479425538604203\n",
      "0.1 0.9296501041259554\n",
      "0.01 0.9992078366500488\n",
      "0.001 0.9992037149227553\n",
      "0.0001 0.9999036736218802\n",
      "1e-05 0.999993673209274\n",
      "1e-06 0.999999673205121\n",
      "1e-07 0.9999999732049413\n"
     ]
    }
   ],
   "source": [
    "for dx in dxs:\n",
    "    s = riemann_sum(dx)\n",
    "    print(dx, s)"
   ]
  }
 ],
 "metadata": {
  "kernelspec": {
   "display_name": "Python 3",
   "language": "python",
   "name": "python3"
  },
  "language_info": {
   "codemirror_mode": {
    "name": "ipython",
    "version": 3
   },
   "file_extension": ".py",
   "mimetype": "text/x-python",
   "name": "python",
   "nbconvert_exporter": "python",
   "pygments_lexer": "ipython3",
   "version": "3.7.3"
  }
 },
 "nbformat": 4,
 "nbformat_minor": 2
}
