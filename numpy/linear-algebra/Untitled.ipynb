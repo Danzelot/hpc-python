{
 "cells": [
  {
   "cell_type": "code",
   "execution_count": 1,
   "metadata": {},
   "outputs": [],
   "source": [
    "import numpy as np"
   ]
  },
  {
   "cell_type": "code",
   "execution_count": 18,
   "metadata": {},
   "outputs": [
    {
     "data": {
      "text/plain": [
       "array([[152, 188],\n",
       "       [184, 240]])"
      ]
     },
     "execution_count": 18,
     "metadata": {},
     "output_type": "execute_result"
    }
   ],
   "source": [
    "a = np.random.choice(np.arange(0,10),size=(2,2))\n",
    "b = np.random.choice(np.arange(0,10),size=(2,2))\n",
    "a += np.transpose(a)\n",
    "b += np.transpose(b)\n",
    "c = np.dot(a,b)\n",
    "c"
   ]
  },
  {
   "cell_type": "code",
   "execution_count": 20,
   "metadata": {},
   "outputs": [
    {
     "data": {
      "text/plain": [
       "array([  4.87700295, 387.12299705])"
      ]
     },
     "execution_count": 20,
     "metadata": {},
     "output_type": "execute_result"
    }
   ],
   "source": [
    "eigen = np.linalg.eigvals(c)\n",
    "eigen"
   ]
  },
  {
   "cell_type": "code",
   "execution_count": 43,
   "metadata": {},
   "outputs": [],
   "source": [
    "a = np.arange(0, 10, 1)\n",
    "ind = np.array([1, 1, 0, 4])\n",
    "b = a[ind]\n",
    "m = a%2==0\n",
    "a[m]\n",
    "c = np.array(['ssssas','sssssad'])"
   ]
  },
  {
   "cell_type": "code",
   "execution_count": 40,
   "metadata": {},
   "outputs": [
    {
     "data": {
      "text/plain": [
       "8"
      ]
     },
     "execution_count": 40,
     "metadata": {},
     "output_type": "execute_result"
    }
   ],
   "source": [
    "a.itemsize"
   ]
  },
  {
   "cell_type": "code",
   "execution_count": 48,
   "metadata": {},
   "outputs": [
    {
     "data": {
      "text/plain": [
       "array([[0.08624888, 0.80583343, 0.43325801],\n",
       "       [0.871335  , 0.30438193, 0.323171  ],\n",
       "       [0.40625548, 0.59449746, 0.67628908],\n",
       "       [0.32371389, 0.54872621, 0.3489287 ],\n",
       "       [0.34969926, 0.82530833, 0.03982752]])"
      ]
     },
     "execution_count": 48,
     "metadata": {},
     "output_type": "execute_result"
    }
   ],
   "source": [
    "X = np.random.random((5, 3))\n",
    "X"
   ]
  },
  {
   "cell_type": "code",
   "execution_count": 50,
   "metadata": {},
   "outputs": [
    {
     "data": {
      "text/plain": [
       "array([[[ 0.        ,  0.        ,  0.        ],\n",
       "        [-0.78508612,  0.5014515 ,  0.110087  ],\n",
       "        [-0.32000661,  0.21133597, -0.24303107],\n",
       "        [-0.23746502,  0.25710722,  0.08432931],\n",
       "        [-0.26345038, -0.01947489,  0.39343048]],\n",
       "\n",
       "       [[ 0.78508612, -0.5014515 , -0.110087  ],\n",
       "        [ 0.        ,  0.        ,  0.        ],\n",
       "        [ 0.46507952, -0.29011552, -0.35311807],\n",
       "        [ 0.5476211 , -0.24434428, -0.02575769],\n",
       "        [ 0.52163574, -0.52092639,  0.28334348]],\n",
       "\n",
       "       [[ 0.32000661, -0.21133597,  0.24303107],\n",
       "        [-0.46507952,  0.29011552,  0.35311807],\n",
       "        [ 0.        ,  0.        ,  0.        ],\n",
       "        [ 0.08254159,  0.04577125,  0.32736038],\n",
       "        [ 0.05655622, -0.23081087,  0.63646155]],\n",
       "\n",
       "       [[ 0.23746502, -0.25710722, -0.08432931],\n",
       "        [-0.5476211 ,  0.24434428,  0.02575769],\n",
       "        [-0.08254159, -0.04577125, -0.32736038],\n",
       "        [ 0.        ,  0.        ,  0.        ],\n",
       "        [-0.02598537, -0.27658212,  0.30910117]],\n",
       "\n",
       "       [[ 0.26345038,  0.01947489, -0.39343048],\n",
       "        [-0.52163574,  0.52092639, -0.28334348],\n",
       "        [-0.05655622,  0.23081087, -0.63646155],\n",
       "        [ 0.02598537,  0.27658212, -0.30910117],\n",
       "        [ 0.        ,  0.        ,  0.        ]]])"
      ]
     },
     "execution_count": 50,
     "metadata": {},
     "output_type": "execute_result"
    }
   ],
   "source": [
    "X[:, np.newaxis, :] -X"
   ]
  }
 ],
 "metadata": {
  "kernelspec": {
   "display_name": "Python 3",
   "language": "python",
   "name": "python3"
  },
  "language_info": {
   "codemirror_mode": {
    "name": "ipython",
    "version": 3
   },
   "file_extension": ".py",
   "mimetype": "text/x-python",
   "name": "python",
   "nbconvert_exporter": "python",
   "pygments_lexer": "ipython3",
   "version": "3.7.3"
  }
 },
 "nbformat": 4,
 "nbformat_minor": 2
}
